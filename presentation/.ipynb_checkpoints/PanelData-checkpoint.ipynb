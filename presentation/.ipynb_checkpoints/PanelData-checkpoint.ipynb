{
 "cells": [
  {
   "cell_type": "markdown",
   "metadata": {},
   "source": [
    "Feb.02, 2021, M.Sc. Economics, University of Bonn | Yuxin Wang, Zelin Ren\n",
    "\n",
    "---\n",
    "# Panel Data Models with Fixed Effects\n",
    "\n",
    "---"
   ]
  },
  {
   "cell_type": "markdown",
   "metadata": {},
   "source": [
    "This notebook contains replication of the results from the following paper:\n",
    "\n",
    "> Bai, J. (2009), Panel Data Models With Interactive Fixed Effects. Econometrica, 77: 1229-1279.\n",
    "\n",
    "> Bai, J. and Ng, S. (2002), Determining the Number of Factors in Approximate Factor Models. Econometrica, 70: 191-221.\n"
   ]
  },
  {
   "cell_type": "markdown",
   "metadata": {},
   "source": [
    "## Data Generating Process"
   ]
  },
  {
   "cell_type": "markdown",
   "metadata": {},
   "source": [
    "Assume we an overall model\n",
    "$$\n",
    "Y_{it}=X_{it}\\beta +\\lambda_{i}'F_{t}+\\epsilon_{it}\n",
    "$$"
   ]
  },
  {
   "cell_type": "markdown",
   "metadata": {},
   "source": [
    "Let the general data generating process fulfills the following assumptions：\n",
    "$$x_{it,1}=\\mu_{1}+c_{1}\\lambda_{i}'F_{t}+\\iota'\\lambda_{i}+\\iota'F_{t}+\\eta_{it,1}\\\\\n",
    "$$\n",
    "$$x_{it,2}=\\mu_{2}+c_{2}\\lambda_{i}'F_{t}+\\iota'\\lambda_{i}+\\iota'F_{t}+\\eta_{it,2}\\\\\n",
    "$$\n",
    "with $\\mu_{1}=\\mu_{2}=c_{1}=c_{2}=1\\,\n",
    ", \\iota=\\begin{pmatrix}\n",
    "1\\\\\n",
    "1 \\end{pmatrix}_{r\\times1}\\\n",
    ", \\eta_{it,1},\\eta_{it,2}\\stackrel{\\text{i.i.d}}{\\sim}N(0,1)\\\n",
    ", \\epsilon_{it}\\stackrel{\\text{i.i.d}}{\\sim}N(0,1)\\\n",
    ".\n",
    "$"
   ]
  },
  {
   "cell_type": "markdown",
   "metadata": {},
   "source": [
    "## Methods"
   ]
  },
  {
   "cell_type": "markdown",
   "metadata": {},
   "source": [
    "We will start from a simple fixed effect model and gradually add complexity to compare how well fixed effect method and least squares method perform under different models.\n",
    "Especially, model 4 is a replication of the paper [Bai, J. (2009)](https://doi.org/10.3982/ECTA6135). We replicate the result under 100 simulations."
   ]
  },
  {
   "cell_type": "markdown",
   "metadata": {},
   "source": [
    "### Model 1: Fixed Effect Model"
   ]
  },
  {
   "cell_type": "markdown",
   "metadata": {},
   "source": [
    "$$\n",
    "Y_{it} = \\beta_{1}x_{it,1}+\\beta_{2}x_{it,2}+\\alpha_{i}+\\epsilon_{it}\\\\\n",
    "$$"
   ]
  },
  {
   "cell_type": "markdown",
   "metadata": {},
   "source": [
    "with $$X_{i}=\\begin{pmatrix}\n",
    "x_{it,1} \\\\\n",
    "x_{it,2}\\end{pmatrix},\n",
    "\\lambda_{i}=\\begin{pmatrix}\n",
    "\\alpha_{i} \\\\\n",
    "1 \\end{pmatrix},\n",
    "F_{t}=\\begin{pmatrix}\n",
    "1 \\\\\n",
    "0 \\end{pmatrix}\\\n",
    ",\\alpha_{i}\\stackrel{\\text{i.i.d}}{\\sim}N(0,1)\n",
    "$$"
   ]
  },
  {
   "cell_type": "code",
   "execution_count": 27,
   "metadata": {},
   "outputs": [],
   "source": [
    "# here we write a function to calculate fixed effect estimator\n",
    "OLS_FE <- function(X_list, Y_list){\n",
    "  # Initialize\n",
    "  N <- length(X_list)\n",
    "  T_ <- dim(X_list[[1]])[1]\n",
    "  p <- dim(X_list[[1]])[2]\n",
    "  A <- array(0, dim = c(p,p))\n",
    "  B <- rep(0, p)\n",
    "  # Loop over N & T_\n",
    "  for(i in 1:N){\n",
    "    X_i <- X_list[[i]]\n",
    "    Y_i <- Y_list[[i]]\n",
    "    x_i_mean <- colMeans(X_i)\n",
    "    y_i_mean <- mean(Y_i)\n",
    "    for(t in 1:T_){\n",
    "      A <- A + (X_i[t,] - x_i_mean) %*% t(X_i[t,] - x_i_mean)\n",
    "      B <- B + (X_i[t,] - x_i_mean) * (Y_i[t] - y_i_mean)\n",
    "    }\n",
    "  }\n",
    "  beta_hat_fe <- solve(A) %*% B\n",
    "  return(list(beta_hat = beta_hat_fe))\n",
    "}\n",
    "\n",
    "# alternatively, we can use plm package for fixed effect estimation\n",
    "OLS_FE2 <- function(df){\n",
    "  p <- ncol(df) - 3\n",
    "  data <- pdata.frame(df,index=c(\"i\",\"t\"))\n",
    "  formulate <- reformulate(response = c(\"y_it\"), termlabels =\n",
    "                             paste0(\"x_it_\",c(0:(p-1))) %>% paste(collapse = \" + \"))\n",
    "  result <- plm(formulate, data=data,\n",
    "                effect = \"individual\",model=\"within\")\n",
    "  return(list(beta_hat = as.matrix(result$coefficients)))\n",
    "}"
   ]
  },
  {
   "cell_type": "code",
   "execution_count": 28,
   "metadata": {},
   "outputs": [],
   "source": [
    "# we also define functions for the least squares method\n",
    "least_squares <- function(X_list, Y_list, df, tolerance, r){\n",
    "  # Initialize\n",
    "  p <- dim(X_list[[1]])[2]\n",
    "  formulate <- paste0(\"y_it ~ \", paste0(\"x_it_\",c(1:p)) %>% paste(collapse = \" + \"), ifelse(p<=2, \" + 0\", \"\"))\n",
    "  # beta_hat_0 <- plm(formulate, data=df, effect=\"twoways\", model=\"within\")$coefficients %>% as.matrix()\n",
    "  beta_hat_0 <- plm(formulate, data=df, model=\"pooling\")$coefficients %>% as.matrix()\n",
    "   if(p >=3){\n",
    "    beta_hat_0[c(3,1,2)] <- beta_hat_0[c(1,2,3)]\n",
    "  }\n",
    "  beta_hat_list <- list(beta_hat_0)\n",
    "  e <- Inf\n",
    "  while (e > tolerance) {\n",
    "    F_hat <- calculate_F_hat(X_list, Y_list, beta_hat_0, r)\n",
    "    Lambda_hat <- calculate_Lambda_hat(X_list, Y_list, beta_hat_0, F_hat, r)\n",
    "    beta_hat <- calculate_beta_hat(X_list, Y_list, F_hat, Lambda_hat)\n",
    "    beta_hat_list[[length(beta_hat_list)+1]] <- beta_hat\n",
    "    e <- norm(beta_hat - beta_hat_0, type = \"2\")\n",
    "    beta_hat_0 <- beta_hat\n",
    "  }\n",
    "  \n",
    "  return(list(beta_hat=beta_hat, beta_hat_list=beta_hat_list, F_hat=F_hat, Lambda_hat=Lambda_hat))\n",
    "}"
   ]
  },
  {
   "cell_type": "markdown",
   "metadata": {},
   "source": [
    "We generate a table to represent the differences between two methods (under 100 times of simulation):"
   ]
  },
  {
   "cell_type": "markdown",
   "metadata": {},
   "source": [
    "| Method        | N   | T   | Mean beta1  | SD beta1    | Mean beta2  | SD beta2    |\n",
    "|---------------|-----|-----|-------------|-------------|-------------|-------------|\n",
    "| Least Squares | 100 | 10  | 1.017194296 | 0.006209481 | 3.023255006 | 0.005096002 |\n",
    "| .             | 100 | 20  | 1.014214433 | 0.004494649 | 3.014933478 | 0.002858877 |\n",
    "| .             | 100 | 50  | 1.01405041  | 0.001299619 | 3.00614459  | 0.00118213  |\n",
    "| .             | 100 | 100 | 1.004184693 | 0.000675538 | 3.00649853  | 0.000663063 |\n",
    "| .             | 10  | 100 | 1.041439818 | 0.008384535 | 3.020960337 | 0.010299638 |\n",
    "| .             | 20  | 100 | 1.013721946 | 0.004684859 | 3.02076322  | 0.004240222 |\n",
    "| .             | 50  | 100 | 1.005461027 | 0.001644143 | 3.011173265 | 0.001642721 |\n",
    "| Fixed Effects | 100 | 10  | 0.995700085 | 0.004548328 | 2.999483049 | 0.004144292 |\n",
    "| .             | 100 | 20  | 0.999436264 | 0.002943272 | 2.99993336  | 0.00211423  |\n",
    "| .             | 100 | 50  | 1.004578084 | 0.000941487 | 2.996806067 | 0.000638391 |\n",
    "| .             | 100 | 100 | 0.99917233  | 0.000434377 | 3.000701139 | 0.000409958 |\n",
    "| .             | 10  | 100 | 1.004256881 | 0.003853011 | 2.98655622  | 0.00534389  |\n",
    "| .             | 20  | 100 | 0.992569528 | 0.002104076 | 2.998586314 | 0.001999628 |\n",
    "| .             | 50  | 100 | 0.996074682 | 0.000793372 | 3.001415242 | 0.000629293 |"
   ]
  },
  {
   "cell_type": "markdown",
   "metadata": {},
   "source": [
    "We can compare two methods more intuitively by visualizing our simulation results:"
   ]
  },
  {
   "cell_type": "markdown",
   "metadata": {},
   "source": [
    "### Model 2: Additive Fixed Effect Model"
   ]
  },
  {
   "cell_type": "markdown",
   "metadata": {},
   "source": [
    "More generally, we can consider the model\n",
    "$$\n",
    "Y_{it} = \\beta_{1}x_{it,1}+\\beta_{2}x_{it,2}+\\alpha_{i}+\\xi_{t}+\\epsilon_{it}\\\\\n",
    "$$"
   ]
  },
  {
   "cell_type": "markdown",
   "metadata": {},
   "source": [
    "with $$X_{i}=\\begin{pmatrix}\n",
    "x_{it,1} \\\\\n",
    "x_{it,2}\\end{pmatrix},\n",
    "\\lambda_{i}=\\begin{pmatrix}\n",
    "\\alpha_{i} \\\\\n",
    "1 \\end{pmatrix},\n",
    "F_{t}=\\begin{pmatrix}\n",
    "1 \\\\\n",
    "\\epsilon_{t} \\end{pmatrix}\\\n",
    ",\\alpha_{i}, \\epsilon_{t}\\stackrel{\\text{i.i.d}}{\\sim}N(0,1)\n",
    "$$"
   ]
  },
  {
   "cell_type": "code",
   "execution_count": 29,
   "metadata": {},
   "outputs": [],
   "source": [
    "# now we use plm package to calculate model 2-4\n",
    "OLS_FE3 <- function(df){\n",
    "  p <- ncol(df) - 3\n",
    "  formulate <- paste0(\"y_it ~ \", paste(paste0(\"x_it_\",c(1:p)), collapse = \" + \"))\n",
    "  result <- plm(formulate, data=df,index=c(\"i\",\"t\"),\n",
    "                effect = \"twoways\",model=\"within\")\n",
    "  return(list(beta_hat = as.matrix(result$coefficients)))\n",
    "}"
   ]
  },
  {
   "cell_type": "markdown",
   "metadata": {},
   "source": [
    "We generate a table to represent the differences between two methods (under 100 times of simulation):"
   ]
  },
  {
   "cell_type": "markdown",
   "metadata": {},
   "source": [
    "| Method        | N   | T   | Mean beta1        | SD beta1             | Mean beta2       | SD beta2             |\n",
    "|---------------|-----|-----|-------------------|----------------------|------------------|----------------------|\n",
    "| Least Squares | 100 | 10  | 1.09856027732334  | 0.0199762931538037   | 3.11637067626072 | 0.0239982351782373   |\n",
    "| .             | 100 | 20  | 1.1020929840208   | 0.0187630932978162   | 3.11187181967916 | 0.0200484189149724   |\n",
    "| .             | 100 | 50  | 1.04208851672275  | 0.00700962506220835  | 3.04722042000235 | 0.00771410287092613  |\n",
    "| .             | 100 | 100 | 1.00474129850165  | 0.000868205159009748 | 3.00768058341467 | 0.000865861099334249 |\n",
    "| .             | 10  | 100 | 1.13129080535733  | 0.0252772719740803   | 3.10727952808664 | 0.0198481620082254   |\n",
    "| .             | 20  | 100 | 1.09950025938003  | 0.0183962956699761   | 3.10028215439873 | 0.017618382959217    |\n",
    "| .             | 50  | 100 | 1.0574587178934   | 0.00922421173347724  | 3.06020202259567 | 0.00940839048248819  |\n",
    "| Fixed Effects | 100 | 10  | 0.989504458722441 | 0.00508037438572915  | 3.00287829353257 | 0.00495352510798622  |\n",
    "| .             | 100 | 20  | 0.996310417642668 | 0.0024420008991605   | 3.00461657692102 | 0.00221962250698867  |\n",
    "| .             | 100 | 50  | 0.997512777306626 | 0.000755825404390808 | 3.0018989610163  | 0.000801199040342655 |\n",
    "| .             | 100 | 100 | 0.997341564815045 | 0.000514701893990289 | 3.00029420298913 | 0.000446728299056896 |\n",
    "| .             | 10  | 100 | 1.01243028576322  | 0.00447607159456319  | 2.99972277191989 | 0.00384038609414837  |\n",
    "| .             | 20  | 100 | 0.994454425765165 | 0.00169578900607755  | 2.99484066957154 | 0.0024283731373653   |\n",
    "| .             | 50  | 100 | 1.00011087682544  | 0.00085242762433518  | 3.00151117276772 | 0.000558514426293274 |"
   ]
  },
  {
   "cell_type": "markdown",
   "metadata": {},
   "source": [
    "We can compare two methods more intuitively by visualizing our simulation results:"
   ]
  },
  {
   "cell_type": "markdown",
   "metadata": {},
   "source": [
    "Additive effects are special cases of interactive effects."
   ]
  },
  {
   "cell_type": "markdown",
   "metadata": {},
   "source": [
    "### Model 3: Interactive Fixed Effect Model"
   ]
  },
  {
   "cell_type": "markdown",
   "metadata": {},
   "source": [
    "$$\n",
    "Y_{it} = \\beta_{0}+ \\beta_{1}x_{it,1}+\\beta_{2}x_{it,2}+\\lambda_{i}'F_{t}+\\epsilon_{it}\\\\\n",
    "$$"
   ]
  },
  {
   "cell_type": "markdown",
   "metadata": {},
   "source": [
    "with \n",
    "$$X_{i}=\\begin{pmatrix}\n",
    "x_{it,1} \\\\\n",
    "x_{it,2} \\\\\n",
    "1 \\end{pmatrix},\n",
    "\\lambda_{i}=\\begin{pmatrix}\n",
    "\\lambda_{i,1} \\\\\n",
    "\\lambda_{i,2} \\end{pmatrix},\n",
    "F_{t}=\\begin{pmatrix}\n",
    "F_{t,1} \\\\\n",
    "F_{t,2} \\end{pmatrix}\\\n",
    ", \\lambda_{i,1},\\lambda_{i,2},F_{t,1},F_{t,2}\\stackrel{\\text{i.i.d}}{\\sim}N(0,1)\n",
    ", \\beta_{0} =5\\\n",
    "$$"
   ]
  },
  {
   "cell_type": "markdown",
   "metadata": {},
   "source": [
    "We generate a table to represent the differences between two methods (under 100 times of simulation):"
   ]
  },
  {
   "cell_type": "markdown",
   "metadata": {},
   "source": [
    "| Method        | N   | T   | Mean beta1       | SD beta1             | Mean beta2       | SD beta2             | Mean mu          | SD mu               |\n",
    "|---------------|-----|-----|------------------|----------------------|------------------|----------------------|------------------|---------------------|\n",
    "| Least Squares | 100 | 10  | 1.05532232289715 | 0.0192452440493073   | 3.05170324442847 | 0.0141321447597906   | 4.71860264725828 | 0.319038738326792   |\n",
    "| .             | 100 | 20  | 1.02508437541121 | 0.00600859043771666  | 3.03565246019182 | 0.0060815341896033   | 4.87948906328583 | 0.0974764541402533  |\n",
    "| .             | 100 | 50  | 1.00896018828406 | 0.000942526836927577 | 3.00694579371615 | 0.00103031827909876  | 4.97945587625873 | 0.0042966182041506  |\n",
    "| .             | 100 | 100 | 1.00617869144546 | 0.000435357508660732 | 3.00407697633687 | 0.000457303775587203 | 4.99014311391838 | 0.00161651908492544 |\n",
    "| .             | 10  | 100 | 1.05005614873347 | 0.0172837227085651   | 3.04166629292672 | 0.012418955716741    | 4.71921794705419 | 0.455696880027372   |\n",
    "| .             | 20  | 100 | 1.0304569253155  | 0.00606427091400279  | 3.02779503628822 | 0.00580926735562632  | 4.88496081743378 | 0.0933055237855388  |\n",
    "| .             | 50  | 100 | 1.01041231748322 | 0.00125696781016688  | 3.00704459848808 | 0.00111298319189868  | 4.97873017593679 | 0.00358944961565439 |\n",
    "| Fixed Effects | 100 | 10  | 1.22842168051801 | 0.0556335107932357   | 3.22549442235284 | 0.0551638994633056   | NA               | NA                  |\n",
    "| .             | 100 | 20  | 1.21221433247706 | 0.0473197385196549   | 3.22380645024523 | 0.051912625378666    | NA               | NA                  |\n",
    "| .             | 100 | 50  | 1.22421627862471 | 0.0509068524711803   | 3.22240630827974 | 0.0503299162908848   | NA               | NA                  |\n",
    "| .             | 100 | 100 | 1.22402204858666 | 0.05072497140822     | 3.22332918242376 | 0.0504420098352463   | NA               | NA                  |\n",
    "| .             | 10  | 100 | 1.2222677598376  | 0.0530935741303025   | 3.21099735737145 | 0.0489479984373218   | NA               | NA                  |\n",
    "| .             | 20  | 100 | 1.21429372351863 | 0.0484455430577782   | 3.20827917975064 | 0.0453241976699453   | NA               | NA                  |\n",
    "| .             | 50  | 100 | 1.22115806235012 | 0.0499673421763473   | 3.22223162922188 | 0.0505359803012797   | NA               | NA                  |"
   ]
  },
  {
   "cell_type": "markdown",
   "metadata": {},
   "source": [
    "We can compare two methods more intuitively by visualizing our simulation results:"
   ]
  },
  {
   "cell_type": "markdown",
   "metadata": {},
   "source": [
    "Now let's look at a more complex setting."
   ]
  },
  {
   "cell_type": "markdown",
   "metadata": {},
   "source": [
    "### Model 4: Interactive Fixed Effect Model"
   ]
  },
  {
   "cell_type": "markdown",
   "metadata": {},
   "source": [
    "$$\n",
    "Y_{it} = \\beta_{0}+ \\beta_{1}x_{it,1}+\\beta_{2}x_{it,2}+x_{i}\\gamma +w_{t}\\delta +\\lambda_{i}'F_{t}+\\epsilon_{it}\\\\\n",
    "$$"
   ]
  },
  {
   "cell_type": "markdown",
   "metadata": {},
   "source": [
    "with \n",
    "$$\n",
    "X_{i}=\\begin{pmatrix}\n",
    "x_{it,1} \\\\\n",
    "x_{it,2} \\\\\n",
    "1 \\\\\n",
    "x_{i} \\\\\n",
    "w_{t} \\end{pmatrix},\n",
    "\\lambda_{i}=\\begin{pmatrix}\n",
    "\\lambda_{i,1} \\\\\n",
    "\\lambda_{i,2} \\end{pmatrix},\n",
    "F_{t}=\\begin{pmatrix}\n",
    "F_{t,1} \\\\\n",
    "F_{t,2} \\end{pmatrix}\n",
    ", x_{i}=\\iota'\\lambda_{i}+e_{i}\\\n",
    ", w_{t}=\\iota'F_{t}+\\eta_{t}\\\n",
    ",\n",
    "$$\n",
    "$$\n",
    "\\beta_{0} =5\\\n",
    ", \\gamma =2,\\delta =4\\\n",
    ", \\lambda_{i,1},\\lambda_{i,2},F_{t,1},F_{t,2},e_{i},\\eta_{t}\\stackrel{\\text{i.i.d}}{\\sim}N(0,1)\n",
    "$$"
   ]
  },
  {
   "cell_type": "markdown",
   "metadata": {},
   "source": [
    "We generate a table to represent the differences between two methods (under 100 times of simulation):"
   ]
  },
  {
   "cell_type": "markdown",
   "metadata": {},
   "source": [
    "| Method        | N   | T   | Mean beta1       | SD beta1             | Mean beta2       | SD beta2             | Mean mu          | SD mu               |\n",
    "|---------------|-----|-----|------------------|----------------------|------------------|----------------------|------------------|---------------------|\n",
    "| Least Squares | 100 | 10  | 1.05532232289715 | 0.0192452440493073   | 3.05170324442847 | 0.0141321447597906   | 4.71860264725828 | 0.319038738326792   |\n",
    "| .             | 100 | 20  | 1.02508437541121 | 0.00600859043771666  | 3.03565246019182 | 0.0060815341896033   | 4.87948906328583 | 0.0974764541402533  |\n",
    "| .             | 100 | 50  | 1.00896018828406 | 0.000942526836927577 | 3.00694579371615 | 0.00103031827909876  | 4.97945587625873 | 0.0042966182041506  |\n",
    "| .             | 100 | 100 | 1.00617869144546 | 0.000435357508660732 | 3.00407697633687 | 0.000457303775587203 | 4.99014311391838 | 0.00161651908492544 |\n",
    "| .             | 10  | 100 | 1.05005614873347 | 0.0172837227085651   | 3.04166629292672 | 0.012418955716741    | 4.71921794705419 | 0.455696880027372   |\n",
    "| .             | 20  | 100 | 1.0304569253155  | 0.00606427091400279  | 3.02779503628822 | 0.00580926735562632  | 4.88496081743378 | 0.0933055237855388  |\n",
    "| .             | 50  | 100 | 1.01041231748322 | 0.00125696781016688  | 3.00704459848808 | 0.00111298319189868  | 4.97873017593679 | 0.00358944961565439 |\n",
    "| Fixed Effects | 100 | 10  | 1.22842168051801 | 0.0556335107932357   | 3.22549442235284 | 0.0551638994633056   | NA               | NA                  |\n",
    "| .             | 100 | 20  | 1.21221433247706 | 0.0473197385196549   | 3.22380645024523 | 0.051912625378666    | NA               | NA                  |\n",
    "| .             | 100 | 50  | 1.22421627862471 | 0.0509068524711803   | 3.22240630827974 | 0.0503299162908848   | NA               | NA                  |\n",
    "| .             | 100 | 100 | 1.22402204858666 | 0.05072497140822     | 3.22332918242376 | 0.0504420098352463   | NA               | NA                  |\n",
    "| .             | 10  | 100 | 1.2222677598376  | 0.0530935741303025   | 3.21099735737145 | 0.0489479984373218   | NA               | NA                  |\n",
    "| .             | 20  | 100 | 1.21429372351863 | 0.0484455430577782   | 3.20827917975064 | 0.0453241976699453   | NA               | NA                  |\n",
    "| .             | 50  | 100 | 1.22115806235012 | 0.0499673421763473   | 3.22223162922188 | 0.0505359803012797   | NA               | NA                  |"
   ]
  },
  {
   "cell_type": "markdown",
   "metadata": {},
   "source": [
    "We can compare two methods more intuitively by visualizing our simulation results:"
   ]
  },
  {
   "cell_type": "markdown",
   "metadata": {},
   "source": [
    "### Least square estimator with Unknown Numbers of Factors"
   ]
  },
  {
   "cell_type": "markdown",
   "metadata": {},
   "source": [
    "**Question:**\\\n",
    "Previously in model 4, we know that real facor number is equal to 2. What would happen if we don't know the real value of r?\\\n",
    "Let's look at the cases when number of factors is not correctly estimated."
   ]
  },
  {
   "cell_type": "code",
   "execution_count": null,
   "metadata": {},
   "outputs": [],
   "source": []
  },
  {
   "cell_type": "markdown",
   "metadata": {},
   "source": [
    "### Determine Number of Factors in Approximate Factor Models"
   ]
  },
  {
   "cell_type": "markdown",
   "metadata": {},
   "source": [
    "Central to both the theoretical and the empirical validity of factor models is the correcy specification of the number of factors. To date, this crucial parameter is often assumed rather than determined by the data.\\\n",
    "We do a replication of [ Bai, J. and Ng, S. (2002)]( https://doi.org/10.1111/1468-0262.00273),"
   ]
  },
  {
   "cell_type": "code",
   "execution_count": null,
   "metadata": {},
   "outputs": [],
   "source": []
  },
  {
   "cell_type": "code",
   "execution_count": null,
   "metadata": {},
   "outputs": [],
   "source": []
  }
 ],
 "metadata": {
  "kernelspec": {
   "display_name": "R",
   "language": "R",
   "name": "ir"
  },
  "language_info": {
   "codemirror_mode": "r",
   "file_extension": ".r",
   "mimetype": "text/x-r-source",
   "name": "R",
   "pygments_lexer": "r",
   "version": "3.6.3"
  }
 },
 "nbformat": 4,
 "nbformat_minor": 4
}

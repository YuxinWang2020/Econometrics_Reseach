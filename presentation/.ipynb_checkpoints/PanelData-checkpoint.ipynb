{
 "cells": [
  {
   "cell_type": "markdown",
   "metadata": {},
   "source": [
    "# Panel Data Models with Fixed Effects\n",
    "Presented by Yuxin Wang, Zelin Ren\\\n",
    "Feb.02, 2021"
   ]
  },
  {
   "cell_type": "markdown",
   "metadata": {},
   "source": [
    "## Data Generating Process"
   ]
  },
  {
   "cell_type": "markdown",
   "metadata": {},
   "source": [
    "Assume we an overall model\n",
    "$$\n",
    "Y_{it}=X_{it}\\beta +\\lambda_{i}'F_{t}+\\epsilon_{it}\n",
    "$$"
   ]
  },
  {
   "cell_type": "markdown",
   "metadata": {},
   "source": [
    "Let the general data generating process fulfills the following assumptions：\n",
    "$$x_{it,1}=\\mu_{1}+c_{1}\\lambda_{i}'F_{t}+\\iota'\\lambda_{i}+\\iota'F_{t}+\\eta_{it,1}\\\\\n",
    "$$\n",
    "$$x_{it,2}=\\mu_{2}+c_{2}\\lambda_{i}'F_{t}+\\iota'\\lambda_{i}+\\iota'F_{t}+\\eta_{it,2}\\\\\n",
    "$$\n",
    "with $\\mu_{1}=\\mu_{2}=c_{1}=c_{2}=1\\,\n",
    ", \\iota=\\begin{pmatrix}\n",
    "1\\\\\n",
    "1 \\end{pmatrix}_{r\\times1}\\\n",
    ", \\eta_{it,1},\\eta_{it,2}\\stackrel{\\text{i.i.d}}{\\sim}N(0,1)\\\n",
    ", \\epsilon_{it}\\stackrel{\\text{i.i.d}}{\\sim}N(0,1)\\\n",
    ".\n",
    "$"
   ]
  },
  {
   "cell_type": "markdown",
   "metadata": {},
   "source": [
    "## Methods"
   ]
  },
  {
   "cell_type": "markdown",
   "metadata": {},
   "source": [
    "Fixed Effect v.s. Least Squares"
   ]
  },
  {
   "cell_type": "markdown",
   "metadata": {},
   "source": [
    "### Model 1: Fixed Effect Model"
   ]
  },
  {
   "cell_type": "markdown",
   "metadata": {},
   "source": [
    "$$\n",
    "Y_{it} = \\beta_{1}x_{it,1}+\\beta_{2}x_{it,2}+\\alpha_{i}+\\epsilon_{it}\\\\\n",
    "$$"
   ]
  },
  {
   "cell_type": "markdown",
   "metadata": {},
   "source": [
    "with $$X_{i}=\\begin{pmatrix}\n",
    "x_{it,1} \\\\\n",
    "x_{it,2}\\end{pmatrix},\n",
    "\\lambda_{i}=\\begin{pmatrix}\n",
    "\\alpha_{i} \\\\\n",
    "1 \\end{pmatrix},\n",
    "F_{t}=\\begin{pmatrix}\n",
    "1 \\\\\n",
    "0 \\end{pmatrix}\\\n",
    ",\\alpha_{i}\\stackrel{\\text{i.i.d}}{\\sim}N(0,1)\n",
    "$$"
   ]
  },
  {
   "cell_type": "code",
   "execution_count": 27,
   "metadata": {},
   "outputs": [],
   "source": [
    "# here we write a function to calculate fixed effect estimator\n",
    "OLS_FE <- function(X_list, Y_list){\n",
    "  # Initialize\n",
    "  N <- length(X_list)\n",
    "  T_ <- dim(X_list[[1]])[1]\n",
    "  p <- dim(X_list[[1]])[2]\n",
    "  A <- array(0, dim = c(p,p))\n",
    "  B <- rep(0, p)\n",
    "  # Loop over N & T_\n",
    "  for(i in 1:N){\n",
    "    X_i <- X_list[[i]]\n",
    "    Y_i <- Y_list[[i]]\n",
    "    x_i_mean <- colMeans(X_i)\n",
    "    y_i_mean <- mean(Y_i)\n",
    "    for(t in 1:T_){\n",
    "      A <- A + (X_i[t,] - x_i_mean) %*% t(X_i[t,] - x_i_mean)\n",
    "      B <- B + (X_i[t,] - x_i_mean) * (Y_i[t] - y_i_mean)\n",
    "    }\n",
    "  }\n",
    "  beta_hat_fe <- solve(A) %*% B\n",
    "  return(list(beta_hat = beta_hat_fe))\n",
    "}\n",
    "\n",
    "# alternatively, we can use plm package for fixed effect estimation\n",
    "OLS_FE2 <- function(df){\n",
    "  p <- ncol(df) - 3\n",
    "  data <- pdata.frame(df,index=c(\"i\",\"t\"))\n",
    "  formulate <- reformulate(response = c(\"y_it\"), termlabels =\n",
    "                             paste0(\"x_it_\",c(0:(p-1))) %>% paste(collapse = \" + \"))\n",
    "  result <- plm(formulate, data=data,\n",
    "                effect = \"individual\",model=\"within\")\n",
    "  return(list(beta_hat = as.matrix(result$coefficients)))\n",
    "}"
   ]
  },
  {
   "cell_type": "code",
   "execution_count": 28,
   "metadata": {},
   "outputs": [],
   "source": [
    "# we also define functions for the least squares method\n",
    "least_squares <- function(X_list, Y_list, df, tolerance, r){\n",
    "  # Initialize\n",
    "  p <- dim(X_list[[1]])[2]\n",
    "  formulate <- paste0(\"y_it ~ \", paste0(\"x_it_\",c(1:p)) %>% paste(collapse = \" + \"), ifelse(p<=2, \" + 0\", \"\"))\n",
    "  # beta_hat_0 <- plm(formulate, data=df, effect=\"twoways\", model=\"within\")$coefficients %>% as.matrix()\n",
    "  beta_hat_0 <- plm(formulate, data=df, model=\"pooling\")$coefficients %>% as.matrix()\n",
    "   if(p >=3){\n",
    "    beta_hat_0[c(3,1,2)] <- beta_hat_0[c(1,2,3)]\n",
    "  }\n",
    "  beta_hat_list <- list(beta_hat_0)\n",
    "  e <- Inf\n",
    "  while (e > tolerance) {\n",
    "    F_hat <- calculate_F_hat(X_list, Y_list, beta_hat_0, r)\n",
    "    Lambda_hat <- calculate_Lambda_hat(X_list, Y_list, beta_hat_0, F_hat, r)\n",
    "    beta_hat <- calculate_beta_hat(X_list, Y_list, F_hat, Lambda_hat)\n",
    "    beta_hat_list[[length(beta_hat_list)+1]] <- beta_hat\n",
    "    e <- norm(beta_hat - beta_hat_0, type = \"2\")\n",
    "    beta_hat_0 <- beta_hat\n",
    "  }\n",
    "  \n",
    "  return(list(beta_hat=beta_hat, beta_hat_list=beta_hat_list, F_hat=F_hat, Lambda_hat=Lambda_hat))\n",
    "}"
   ]
  },
  {
   "cell_type": "markdown",
   "metadata": {},
   "source": [
    "We generate a table to represent the differences between two methods (under 100 times of simulation):"
   ]
  },
  {
   "cell_type": "markdown",
   "metadata": {},
   "source": [
    "We can compare two methods more intuitively by visualizing our simulation results:"
   ]
  },
  {
   "cell_type": "markdown",
   "metadata": {},
   "source": [
    "### Model 2: Additive Fixed Effect Model"
   ]
  },
  {
   "cell_type": "markdown",
   "metadata": {},
   "source": [
    "More generally, we can consider the model\n",
    "$$\n",
    "Y_{it} = \\beta_{1}x_{it,1}+\\beta_{2}x_{it,2}+\\alpha_{i}+\\xi_{t}+\\epsilon_{it}\\\\\n",
    "$$"
   ]
  },
  {
   "cell_type": "markdown",
   "metadata": {},
   "source": [
    "with $$X_{i}=\\begin{pmatrix}\n",
    "x_{it,1} \\\\\n",
    "x_{it,2}\\end{pmatrix},\n",
    "\\lambda_{i}=\\begin{pmatrix}\n",
    "\\alpha_{i} \\\\\n",
    "1 \\end{pmatrix},\n",
    "F_{t}=\\begin{pmatrix}\n",
    "1 \\\\\n",
    "\\epsilon_{t} \\end{pmatrix}\\\n",
    ",\\alpha_{i}, \\epsilon_{t}\\stackrel{\\text{i.i.d}}{\\sim}N(0,1)\n",
    "$$"
   ]
  },
  {
   "cell_type": "code",
   "execution_count": 29,
   "metadata": {},
   "outputs": [],
   "source": [
    "# now we use plm package to calculate model 2-4\n",
    "OLS_FE3 <- function(df){\n",
    "  p <- ncol(df) - 3\n",
    "  formulate <- paste0(\"y_it ~ \", paste(paste0(\"x_it_\",c(1:p)), collapse = \" + \"))\n",
    "  result <- plm(formulate, data=df,index=c(\"i\",\"t\"),\n",
    "                effect = \"twoways\",model=\"within\")\n",
    "  return(list(beta_hat = as.matrix(result$coefficients)))\n",
    "}"
   ]
  },
  {
   "cell_type": "markdown",
   "metadata": {},
   "source": [
    "We generate a table to represent the differences between two methods (under 100 times of simulation):"
   ]
  },
  {
   "cell_type": "markdown",
   "metadata": {},
   "source": [
    "We can compare two methods more intuitively by visualizing our simulation results:"
   ]
  },
  {
   "cell_type": "markdown",
   "metadata": {},
   "source": [
    "Additive fixed effect model is an example of interactive fixed effect model."
   ]
  },
  {
   "cell_type": "markdown",
   "metadata": {},
   "source": [
    "### Model 3: Interactive Fixed Effect Model"
   ]
  },
  {
   "cell_type": "markdown",
   "metadata": {},
   "source": [
    "$$\n",
    "Y_{it} = \\beta_{0}+ \\beta_{1}x_{it,1}+\\beta_{2}x_{it,2}+\\lambda_{i}'F_{t}+\\epsilon_{it}\\\\\n",
    "$$"
   ]
  },
  {
   "cell_type": "markdown",
   "metadata": {},
   "source": [
    "with $$X_{i}=\\begin{pmatrix}\n",
    "x_{it,1} \\\\\n",
    "x_{it,2} \\\\\n",
    "1 \\end{pmatrix},\n",
    "\\lambda_{i}=\\begin{pmatrix}\n",
    "\\lambda_{i,1} \\\\\n",
    "\\lambda_{i,2} \\end{pmatrix},\n",
    "F_{t}=\\begin{pmatrix}\n",
    "F_{t,1} \\\\\n",
    "F_{t,2} \\end{pmatrix}\\\n",
    "，\\lambda_{i,1},\\lambda_{i,2},F_{t,1},F_{t,2}\\stackrel{\\text{i.i.d}}{\\sim}N(0,1)\n",
    ", \\beta_{0} =5\\\n",
    "$$"
   ]
  },
  {
   "cell_type": "markdown",
   "metadata": {},
   "source": [
    "We generate a table to represent the differences between two methods (under 100 times of simulation):"
   ]
  },
  {
   "cell_type": "markdown",
   "metadata": {},
   "source": [
    "We can compare two methods more intuitively by visualizing our simulation results:"
   ]
  },
  {
   "cell_type": "markdown",
   "metadata": {},
   "source": [
    "Now let's look at a more complex setting."
   ]
  },
  {
   "cell_type": "markdown",
   "metadata": {},
   "source": [
    "### Model 4: Interactive Fixed Effect Model"
   ]
  },
  {
   "cell_type": "markdown",
   "metadata": {},
   "source": [
    "$$\n",
    "Y_{it} = \\beta_{0}+ \\beta_{1}x_{it,1}+\\beta_{2}x_{it,2}+x_{i}\\gamma +w_{t}\\delta +\\lambda_{i}'F_{t}+\\epsilon_{it}\\\\\n",
    "$$"
   ]
  },
  {
   "cell_type": "markdown",
   "metadata": {},
   "source": [
    "with $$\n",
    "X_{i}=\\begin{pmatrix}\n",
    "x_{it,1} \\\\\n",
    "x_{it,2} \\\\\n",
    "1 \\\\\n",
    "x_{i} \\\\\n",
    "w_{t} \\end{pmatrix},\n",
    "\\lambda_{i}=\\begin{pmatrix}\n",
    "\\lambda_{i,1} \\\\\n",
    "\\lambda_{i,2} \\end{pmatrix},\n",
    "F_{t}=\\begin{pmatrix}\n",
    "F_{t,1} \\\\\n",
    "F_{t,2} \\end{pmatrix}\n",
    ", x_{i}=\\iota'\\lambda_{i}+e_{i}\\\n",
    "，w_{t}=\\iota'F_{t}+\\eta_{t}\\\n",
    ",\n",
    "$$\n",
    "$$\n",
    "\\beta_{0} =5\\\n",
    ", \\gamma =2,\\delta =4\\\n",
    "，\\lambda_{i,1},\\lambda_{i,2},F_{t,1},F_{t,2},e_{i},\\eta_{t}\\stackrel{\\text{i.i.d}}{\\sim}N(0,1)\n",
    "$$"
   ]
  },
  {
   "cell_type": "markdown",
   "metadata": {},
   "source": [
    "We generate a table to represent the differences between two methods (under 100 times of simulation):"
   ]
  },
  {
   "cell_type": "markdown",
   "metadata": {},
   "source": [
    "We can compare two methods more intuitively by visualizing our simulation results:"
   ]
  },
  {
   "cell_type": "code",
   "execution_count": null,
   "metadata": {},
   "outputs": [],
   "source": []
  }
 ],
 "metadata": {
  "kernelspec": {
   "display_name": "R",
   "language": "R",
   "name": "ir"
  },
  "language_info": {
   "codemirror_mode": "r",
   "file_extension": ".r",
   "mimetype": "text/x-r-source",
   "name": "R",
   "pygments_lexer": "r",
   "version": "3.6.3"
  }
 },
 "nbformat": 4,
 "nbformat_minor": 4
}

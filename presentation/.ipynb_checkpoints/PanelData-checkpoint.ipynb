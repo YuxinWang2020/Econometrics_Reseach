{
 "cells": [
  {
   "cell_type": "markdown",
   "metadata": {},
   "source": [
    "Feb.02, 2021, M.Sc. Economics, University of Bonn | Yuxin Wang, Zelin Ren\n",
    "\n",
    "---\n",
    "# Panel Data Models with Fixed Effects\n",
    "\n",
    "---"
   ]
  },
  {
   "cell_type": "markdown",
   "metadata": {},
   "source": [
    "##### Downloading and viewing this notebook:\n",
    "\n",
    "> The best way to view this notebook is by downloading it and the repository it is located in from [GitHub](https://github.com/YuxinWang2020/Research). Other viewing options like _MyBinder_ or _NBViewer_ may have issues with displaying images or coloring of certain parts (missing images can be viewed in the folder [out](https://github.com/YuxinWang2020/Research/tree/main/out) on GitHub).\\\n",
    "This notebook only contains simulation results, for theoretical part please check on [Slides](https://www.overleaf.com/project/60059fdf85245f7edfd86342)."
   ]
  },
  {
   "cell_type": "markdown",
   "metadata": {},
   "source": [
    "##### This notebook contains replication of the results from the following paper:\n",
    "\n",
    "> Bai, J. (2009), Panel Data Models With Interactive Fixed Effects. Econometrica, 77: 1229-1279.\n",
    "\n",
    "> Bai, J. and Ng, S. (2002), Determining the Number of Factors in Approximate Factor Models. Econometrica, 70: 191-221.\n"
   ]
  },
  {
   "cell_type": "markdown",
   "metadata": {},
   "source": [
    "\n",
    "## Data Generating Process\n",
    "---"
   ]
  },
  {
   "cell_type": "markdown",
   "metadata": {},
   "source": [
    "Assume we an overall model\n",
    "$$\n",
    "Y_{it}=X_{it}\\beta +\\lambda_{i}'F_{t}+\\epsilon_{it}\n",
    "$$"
   ]
  },
  {
   "cell_type": "markdown",
   "metadata": {},
   "source": [
    "Let the general data generating process fulfills the following assumptions：\n",
    "$$x_{it,1}=\\mu_{1}+c_{1}\\lambda_{i}'F_{t}+\\iota'\\lambda_{i}+\\iota'F_{t}+\\eta_{it,1}\\\\\n",
    "$$\n",
    "$$x_{it,2}=\\mu_{2}+c_{2}\\lambda_{i}'F_{t}+\\iota'\\lambda_{i}+\\iota'F_{t}+\\eta_{it,2}\\\\\n",
    "$$\n",
    "with $\\mu_{1}=\\mu_{2}=c_{1}=c_{2}=1\\,\n",
    ", \\iota=\\begin{pmatrix}\n",
    "1\\\\\n",
    "1 \\end{pmatrix}_{r\\times1}\\\n",
    ", \\eta_{it,1},\\eta_{it,2}\\stackrel{\\text{i.i.d}}{\\sim}N(0,1)\\\n",
    ", \\epsilon_{it}\\stackrel{\\text{i.i.d}}{\\sim}N(0,1)\\\n",
    ".\n",
    "$"
   ]
  },
  {
   "cell_type": "code",
   "execution_count": 8,
   "metadata": {},
   "outputs": [],
   "source": [
    "source(\"../code/DGPs.R\")"
   ]
  },
  {
   "cell_type": "code",
   "execution_count": 9,
   "metadata": {},
   "outputs": [],
   "source": [
    "page(DGP2)"
   ]
  },
  {
   "cell_type": "markdown",
   "metadata": {},
   "source": [
    "\n",
    "## Methods\n",
    "---"
   ]
  },
  {
   "cell_type": "markdown",
   "metadata": {},
   "source": [
    "We will start from a simple fixed effect model and gradually add complexity to compare how well fixed effect method and least squares method perform under different models.\n",
    "We do replications following the paper [Bai, J. (2009)](https://doi.org/10.3982/ECTA6135)."
   ]
  },
  {
   "cell_type": "markdown",
   "metadata": {},
   "source": [
    "### Model 1: Fixed Effect Model"
   ]
  },
  {
   "cell_type": "markdown",
   "metadata": {},
   "source": [
    "$$\n",
    "Y_{it} = \\beta_{1}x_{it,1}+\\beta_{2}x_{it,2}+\\alpha_{i}+\\epsilon_{it}\\\\\n",
    "$$"
   ]
  },
  {
   "cell_type": "markdown",
   "metadata": {},
   "source": [
    "with $$X_{i}=\\begin{pmatrix}\n",
    "x_{it,1} \\\\\n",
    "x_{it,2}\\end{pmatrix},\n",
    "\\lambda_{i}=\\begin{pmatrix}\n",
    "\\alpha_{i} \\\\\n",
    "1 \\end{pmatrix},\n",
    "F_{t}=\\begin{pmatrix}\n",
    "1 \\\\\n",
    "0 \\end{pmatrix}\\\n",
    ",\\alpha_{i}\\stackrel{\\text{i.i.d}}{\\sim}N(0,1)\n",
    "$$"
   ]
  },
  {
   "cell_type": "code",
   "execution_count": 3,
   "metadata": {},
   "outputs": [],
   "source": [
    "source(\"../code/Methods.R\")"
   ]
  },
  {
   "cell_type": "code",
   "execution_count": 4,
   "metadata": {},
   "outputs": [],
   "source": [
    "# here we write a function to calculate fixed effect estimator\n",
    "page(OLS_FE)"
   ]
  },
  {
   "cell_type": "code",
   "execution_count": 8,
   "metadata": {},
   "outputs": [],
   "source": [
    "# alternatively, we can use plm package for fixed effect estimation\n",
    "page(OLS_FE2)"
   ]
  },
  {
   "cell_type": "code",
   "execution_count": 7,
   "metadata": {},
   "outputs": [],
   "source": [
    "# we also define functions for the least squares method\n",
    "\n",
    "#Step 1:define funtion to calculate F_hat, dim of F_hat is (T_, r)\n",
    "page(calculate_F_hat)\n",
    "\n",
    "#Step 2:define funtion to calculate Lambda_hat, dim of Lambda_hat is (r, N)\n",
    "page(calculate_Lambda_hat)\n",
    "\n",
    "#Step 3:define funtion to calculate Beta_hat\n",
    "page(calculate_beta_hat)\n",
    "\n",
    "#Step 5:calculate Beta_hat by iterations\n",
    "page(least_squares)"
   ]
  },
  {
   "cell_type": "markdown",
   "metadata": {},
   "source": [
    "We generate a table to represent the differences between two methods (under 100 times of simulation):"
   ]
  },
  {
   "cell_type": "markdown",
   "metadata": {},
   "source": [
    "| Method        | N   | T   | Mean beta1  | SD beta1    | Mean beta2  | SD beta2    |\n",
    "|---------------|-----|-----|-------------|-------------|-------------|-------------|\n",
    "| Least Squares | 100 | 10  | 1.017194296 | 0.006209481 | 3.023255006 | 0.005096002 |\n",
    "| .             | 100 | 20  | 1.014214433 | 0.004494649 | 3.014933478 | 0.002858877 |\n",
    "| .             | 100 | 50  | 1.01405041  | 0.001299619 | 3.00614459  | 0.00118213  |\n",
    "| .             | 100 | 100 | 1.004184693 | 0.000675538 | 3.00649853  | 0.000663063 |\n",
    "| .             | 10  | 100 | 1.041439818 | 0.008384535 | 3.020960337 | 0.010299638 |\n",
    "| .             | 20  | 100 | 1.013721946 | 0.004684859 | 3.02076322  | 0.004240222 |\n",
    "| .             | 50  | 100 | 1.005461027 | 0.001644143 | 3.011173265 | 0.001642721 |\n",
    "| Fixed Effects | 100 | 10  | 0.995700085 | 0.004548328 | 2.999483049 | 0.004144292 |\n",
    "| .             | 100 | 20  | 0.999436264 | 0.002943272 | 2.99993336  | 0.00211423  |\n",
    "| .             | 100 | 50  | 1.004578084 | 0.000941487 | 2.996806067 | 0.000638391 |\n",
    "| .             | 100 | 100 | 0.99917233  | 0.000434377 | 3.000701139 | 0.000409958 |\n",
    "| .             | 10  | 100 | 1.004256881 | 0.003853011 | 2.98655622  | 0.00534389  |\n",
    "| .             | 20  | 100 | 0.992569528 | 0.002104076 | 2.998586314 | 0.001999628 |\n",
    "| .             | 50  | 100 | 0.996074682 | 0.000793372 | 3.001415242 | 0.000629293 |"
   ]
  },
  {
   "cell_type": "markdown",
   "metadata": {},
   "source": [
    "We can compare two methods more intuitively by visualizing our simulation results:"
   ]
  },
  {
   "cell_type": "markdown",
   "metadata": {},
   "source": [
    "<img style=\"float: left;\" src=\"../out/figures/dgp2_model_1/dgp2_model1_beta_hat_T100_point.png\" width=\"65%\">"
   ]
  },
  {
   "cell_type": "markdown",
   "metadata": {},
   "source": [
    "<img style=\"float: left;\" src=\"../out/figures/dgp2_model_1/dgp2_model1_beta_hat_T100_violin.png\" width=\"80%\">\n",
    "\n",
    "<img style=\"float: left;\" src=\"../out/figures/dgp2_model_1/dgp2_model1_mse_point_fe.png\" width=\"40%\">\n",
    "<img style=\"float: left;\" src=\"../out/figures/dgp2_model_1/dgp2_model1_mse_point_ls.png\" width=\"40%\">\n",
    "\n",
    "<img style=\"float: left;\" src=\"../out/figures/dgp2_model_1/dgp2_model1_mse_heatmap_fe.png\" width=\"40%\">\n",
    "<img style=\"float: left;\" src=\"../out/figures/dgp2_model_1/dgp2_model1_mse_heatmap_ls.png\" width=\"40%\">"
   ]
  },
  {
   "cell_type": "markdown",
   "metadata": {},
   "source": [
    "### Model 2: Additive Fixed Effect Model"
   ]
  },
  {
   "cell_type": "markdown",
   "metadata": {},
   "source": [
    "More generally, we can consider the model\n",
    "$$\n",
    "Y_{it} = \\beta_{1}x_{it,1}+\\beta_{2}x_{it,2}+\\alpha_{i}+\\xi_{t}+\\epsilon_{it}\\\\\n",
    "$$"
   ]
  },
  {
   "cell_type": "markdown",
   "metadata": {},
   "source": [
    "with $$X_{i}=\\begin{pmatrix}\n",
    "x_{it,1} \\\\\n",
    "x_{it,2}\\end{pmatrix},\n",
    "\\lambda_{i}=\\begin{pmatrix}\n",
    "\\alpha_{i} \\\\\n",
    "1 \\end{pmatrix},\n",
    "F_{t}=\\begin{pmatrix}\n",
    "1 \\\\\n",
    "\\epsilon_{t} \\end{pmatrix}\\\n",
    ",\\alpha_{i}, \\epsilon_{t}\\stackrel{\\text{i.i.d}}{\\sim}N(0,1)\n",
    "$$"
   ]
  },
  {
   "cell_type": "code",
   "execution_count": 5,
   "metadata": {},
   "outputs": [],
   "source": [
    "# now we use plm package to calculate model 2-4\n",
    "page(OLS_FE3)"
   ]
  },
  {
   "cell_type": "markdown",
   "metadata": {},
   "source": [
    "We generate a table to represent the differences between two methods (under 100 times of simulation):"
   ]
  },
  {
   "cell_type": "markdown",
   "metadata": {},
   "source": [
    "| Method        | N   | T   | Mean beta1        | SD beta1             | Mean beta2       | SD beta2             |\n",
    "|---------------|-----|-----|-------------------|----------------------|------------------|----------------------|\n",
    "| Least Squares | 100 | 10  | 1.09856027732334  | 0.0199762931538037   | 3.11637067626072 | 0.0239982351782373   |\n",
    "| .             | 100 | 20  | 1.1020929840208   | 0.0187630932978162   | 3.11187181967916 | 0.0200484189149724   |\n",
    "| .             | 100 | 50  | 1.04208851672275  | 0.00700962506220835  | 3.04722042000235 | 0.00771410287092613  |\n",
    "| .             | 100 | 100 | 1.00474129850165  | 0.000868205159009748 | 3.00768058341467 | 0.000865861099334249 |\n",
    "| .             | 10  | 100 | 1.13129080535733  | 0.0252772719740803   | 3.10727952808664 | 0.0198481620082254   |\n",
    "| .             | 20  | 100 | 1.09950025938003  | 0.0183962956699761   | 3.10028215439873 | 0.017618382959217    |\n",
    "| .             | 50  | 100 | 1.0574587178934   | 0.00922421173347724  | 3.06020202259567 | 0.00940839048248819  |\n",
    "| Fixed Effects | 100 | 10  | 0.989504458722441 | 0.00508037438572915  | 3.00287829353257 | 0.00495352510798622  |\n",
    "| .             | 100 | 20  | 0.996310417642668 | 0.0024420008991605   | 3.00461657692102 | 0.00221962250698867  |\n",
    "| .             | 100 | 50  | 0.997512777306626 | 0.000755825404390808 | 3.0018989610163  | 0.000801199040342655 |\n",
    "| .             | 100 | 100 | 0.997341564815045 | 0.000514701893990289 | 3.00029420298913 | 0.000446728299056896 |\n",
    "| .             | 10  | 100 | 1.01243028576322  | 0.00447607159456319  | 2.99972277191989 | 0.00384038609414837  |\n",
    "| .             | 20  | 100 | 0.994454425765165 | 0.00169578900607755  | 2.99484066957154 | 0.0024283731373653   |\n",
    "| .             | 50  | 100 | 1.00011087682544  | 0.00085242762433518  | 3.00151117276772 | 0.000558514426293274 |"
   ]
  },
  {
   "cell_type": "markdown",
   "metadata": {},
   "source": [
    "We can compare two methods more intuitively by visualizing our simulation results:"
   ]
  },
  {
   "cell_type": "markdown",
   "metadata": {},
   "source": [
    "<img style=\"float: left;\" src=\"../out/figures/dgp2_model_2/dgp2_model2_beta_hat_T100_point.png\" width=\"65%\">"
   ]
  },
  {
   "cell_type": "markdown",
   "metadata": {},
   "source": [
    "<img style=\"float: left;\" src=\"../out/figures/dgp2_model_2/dgp2_model2_beta_hat_T100_violin.png\" width=\"80%\">\n",
    "\n",
    "<img style=\"float: left;\" src=\"../out/figures/dgp2_model_2/dgp2_model2_mse_point_fe.png\" width=\"40%\">\n",
    "<img style=\"float: left;\" src=\"../out/figures/dgp2_model_2/dgp2_model2_mse_point_ls.png\" width=\"40%\">\n",
    "\n"
   ]
  },
  {
   "cell_type": "markdown",
   "metadata": {},
   "source": [
    "Additive effects are special cases of interactive effects."
   ]
  },
  {
   "cell_type": "markdown",
   "metadata": {},
   "source": [
    "### Model 3: Interactive Fixed Effect Model"
   ]
  },
  {
   "cell_type": "markdown",
   "metadata": {},
   "source": [
    "$$\n",
    "Y_{it} = \\beta_{0}+ \\beta_{1}x_{it,1}+\\beta_{2}x_{it,2}+\\lambda_{i}'F_{t}+\\epsilon_{it}\\\\\n",
    "$$"
   ]
  },
  {
   "cell_type": "markdown",
   "metadata": {},
   "source": [
    "with \n",
    "$$X_{i}=\\begin{pmatrix}\n",
    "x_{it,1} \\\\\n",
    "x_{it,2} \\\\\n",
    "1 \\end{pmatrix},\n",
    "\\lambda_{i}=\\begin{pmatrix}\n",
    "\\lambda_{i,1} \\\\\n",
    "\\lambda_{i,2} \\end{pmatrix},\n",
    "F_{t}=\\begin{pmatrix}\n",
    "F_{t,1} \\\\\n",
    "F_{t,2} \\end{pmatrix}\\\n",
    ", \\lambda_{i,1},\\lambda_{i,2},F_{t,1},F_{t,2}\\stackrel{\\text{i.i.d}}{\\sim}N(0,1)\n",
    ", \\beta_{0} =5\\\n",
    "$$"
   ]
  },
  {
   "cell_type": "markdown",
   "metadata": {},
   "source": [
    "We generate a table to represent the differences between two methods (under 100 times of simulation):"
   ]
  },
  {
   "cell_type": "markdown",
   "metadata": {},
   "source": [
    "| Method        | N   | T   | Mean beta1       | SD beta1             | Mean beta2       | SD beta2             | Mean mu          | SD mu               |\n",
    "|---------------|-----|-----|------------------|----------------------|------------------|----------------------|------------------|---------------------|\n",
    "| Least Squares | 100 | 10  | 1.05532232289715 | 0.0192452440493073   | 3.05170324442847 | 0.0141321447597906   | 4.71860264725828 | 0.319038738326792   |\n",
    "| .             | 100 | 20  | 1.02508437541121 | 0.00600859043771666  | 3.03565246019182 | 0.0060815341896033   | 4.87948906328583 | 0.0974764541402533  |\n",
    "| .             | 100 | 50  | 1.00896018828406 | 0.000942526836927577 | 3.00694579371615 | 0.00103031827909876  | 4.97945587625873 | 0.0042966182041506  |\n",
    "| .             | 100 | 100 | 1.00617869144546 | 0.000435357508660732 | 3.00407697633687 | 0.000457303775587203 | 4.99014311391838 | 0.00161651908492544 |\n",
    "| .             | 10  | 100 | 1.05005614873347 | 0.0172837227085651   | 3.04166629292672 | 0.012418955716741    | 4.71921794705419 | 0.455696880027372   |\n",
    "| .             | 20  | 100 | 1.0304569253155  | 0.00606427091400279  | 3.02779503628822 | 0.00580926735562632  | 4.88496081743378 | 0.0933055237855388  |\n",
    "| .             | 50  | 100 | 1.01041231748322 | 0.00125696781016688  | 3.00704459848808 | 0.00111298319189868  | 4.97873017593679 | 0.00358944961565439 |\n",
    "| Fixed Effects | 100 | 10  | 1.22842168051801 | 0.0556335107932357   | 3.22549442235284 | 0.0551638994633056   | NA               | NA                  |\n",
    "| .             | 100 | 20  | 1.21221433247706 | 0.0473197385196549   | 3.22380645024523 | 0.051912625378666    | NA               | NA                  |\n",
    "| .             | 100 | 50  | 1.22421627862471 | 0.0509068524711803   | 3.22240630827974 | 0.0503299162908848   | NA               | NA                  |\n",
    "| .             | 100 | 100 | 1.22402204858666 | 0.05072497140822     | 3.22332918242376 | 0.0504420098352463   | NA               | NA                  |\n",
    "| .             | 10  | 100 | 1.2222677598376  | 0.0530935741303025   | 3.21099735737145 | 0.0489479984373218   | NA               | NA                  |\n",
    "| .             | 20  | 100 | 1.21429372351863 | 0.0484455430577782   | 3.20827917975064 | 0.0453241976699453   | NA               | NA                  |\n",
    "| .             | 50  | 100 | 1.22115806235012 | 0.0499673421763473   | 3.22223162922188 | 0.0505359803012797   | NA               | NA                  |"
   ]
  },
  {
   "cell_type": "markdown",
   "metadata": {},
   "source": [
    "We can compare two methods more intuitively by visualizing our simulation results:"
   ]
  },
  {
   "cell_type": "markdown",
   "metadata": {},
   "source": [
    "<img style=\"float: left;\" src=\"../out/figures/dgp2_model_3/dgp2_model3_beta_hat_T100_point.png\" width=\"65%\">"
   ]
  },
  {
   "cell_type": "markdown",
   "metadata": {},
   "source": [
    "<img style=\"float: left;\" src=\"../out/figures/dgp2_model_3/dgp2_model3_beta_hat_T100_violin.png\" width=\"80%\">\n",
    "\n",
    "<img style=\"float: left;\" src=\"../out/figures/dgp2_model_3/dgp2_model3_mse_point_fe.png\" width=\"40%\">\n",
    "<img style=\"float: left;\" src=\"../out/figures/dgp2_model_3/dgp2_model3_mse_point_ls.png\" width=\"40%\">\n",
    "\n"
   ]
  },
  {
   "cell_type": "markdown",
   "metadata": {},
   "source": [
    "Now let's look at a more complex setting."
   ]
  },
  {
   "cell_type": "markdown",
   "metadata": {},
   "source": [
    "### Model 4: Interactive Fixed Effect Model"
   ]
  },
  {
   "cell_type": "markdown",
   "metadata": {},
   "source": [
    "$$\n",
    "Y_{it} = \\beta_{0}+ \\beta_{1}x_{it,1}+\\beta_{2}x_{it,2}+x_{i}\\gamma +w_{t}\\delta +\\lambda_{i}'F_{t}+\\epsilon_{it}\\\\\n",
    "$$"
   ]
  },
  {
   "cell_type": "markdown",
   "metadata": {},
   "source": [
    "with \n",
    "$$\n",
    "X_{i}=\\begin{pmatrix}\n",
    "x_{it,1} \\\\\n",
    "x_{it,2} \\\\\n",
    "1 \\\\\n",
    "x_{i} \\\\\n",
    "w_{t} \\end{pmatrix},\n",
    "\\lambda_{i}=\\begin{pmatrix}\n",
    "\\lambda_{i,1} \\\\\n",
    "\\lambda_{i,2} \\end{pmatrix},\n",
    "F_{t}=\\begin{pmatrix}\n",
    "F_{t,1} \\\\\n",
    "F_{t,2} \\end{pmatrix}\n",
    ", x_{i}=\\iota'\\lambda_{i}+e_{i}\\\n",
    ", w_{t}=\\iota'F_{t}+\\eta_{t}\\\n",
    ",\n",
    "$$\n",
    "$$\n",
    "\\beta_{0} =5\\\n",
    ", \\gamma =2,\\delta =4\\\n",
    ", \\lambda_{i,1},\\lambda_{i,2},F_{t,1},F_{t,2},e_{i},\\eta_{t}\\stackrel{\\text{i.i.d}}{\\sim}N(0,1)\n",
    "$$"
   ]
  },
  {
   "cell_type": "markdown",
   "metadata": {},
   "source": [
    "We generate a table to represent the differences between two methods (under 100 times of simulation):"
   ]
  },
  {
   "cell_type": "markdown",
   "metadata": {},
   "source": [
    "| Method        | N   | T   | Mean beta1       | SD beta1             | Mean beta2       | SD beta2             | Mean mu          | SD mu               |\n",
    "|---------------|-----|-----|------------------|----------------------|------------------|----------------------|------------------|---------------------|\n",
    "| Least Squares | 100 | 10  | 1.05532232289715 | 0.0192452440493073   | 3.05170324442847 | 0.0141321447597906   | 4.71860264725828 | 0.319038738326792   |\n",
    "| .             | 100 | 20  | 1.02508437541121 | 0.00600859043771666  | 3.03565246019182 | 0.0060815341896033   | 4.87948906328583 | 0.0974764541402533  |\n",
    "| .             | 100 | 50  | 1.00896018828406 | 0.000942526836927577 | 3.00694579371615 | 0.00103031827909876  | 4.97945587625873 | 0.0042966182041506  |\n",
    "| .             | 100 | 100 | 1.00617869144546 | 0.000435357508660732 | 3.00407697633687 | 0.000457303775587203 | 4.99014311391838 | 0.00161651908492544 |\n",
    "| .             | 10  | 100 | 1.05005614873347 | 0.0172837227085651   | 3.04166629292672 | 0.012418955716741    | 4.71921794705419 | 0.455696880027372   |\n",
    "| .             | 20  | 100 | 1.0304569253155  | 0.00606427091400279  | 3.02779503628822 | 0.00580926735562632  | 4.88496081743378 | 0.0933055237855388  |\n",
    "| .             | 50  | 100 | 1.01041231748322 | 0.00125696781016688  | 3.00704459848808 | 0.00111298319189868  | 4.97873017593679 | 0.00358944961565439 |\n",
    "| Fixed Effects | 100 | 10  | 1.22842168051801 | 0.0556335107932357   | 3.22549442235284 | 0.0551638994633056   | NA               | NA                  |\n",
    "| .             | 100 | 20  | 1.21221433247706 | 0.0473197385196549   | 3.22380645024523 | 0.051912625378666    | NA               | NA                  |\n",
    "| .             | 100 | 50  | 1.22421627862471 | 0.0509068524711803   | 3.22240630827974 | 0.0503299162908848   | NA               | NA                  |\n",
    "| .             | 100 | 100 | 1.22402204858666 | 0.05072497140822     | 3.22332918242376 | 0.0504420098352463   | NA               | NA                  |\n",
    "| .             | 10  | 100 | 1.2222677598376  | 0.0530935741303025   | 3.21099735737145 | 0.0489479984373218   | NA               | NA                  |\n",
    "| .             | 20  | 100 | 1.21429372351863 | 0.0484455430577782   | 3.20827917975064 | 0.0453241976699453   | NA               | NA                  |\n",
    "| .             | 50  | 100 | 1.22115806235012 | 0.0499673421763473   | 3.22223162922188 | 0.0505359803012797   | NA               | NA                  |"
   ]
  },
  {
   "cell_type": "markdown",
   "metadata": {},
   "source": [
    "We can compare two methods more intuitively by visualizing our simulation results:"
   ]
  },
  {
   "cell_type": "markdown",
   "metadata": {},
   "source": [
    "<img style=\"float: left;\" src=\"../out/figures/dgp2_model_4/dgp2_model4_beta_hat_T100_point.png\" width=\"65%\">"
   ]
  },
  {
   "cell_type": "markdown",
   "metadata": {},
   "source": [
    "<img style=\"float: left;\" src=\"../out/figures/dgp2_model_4/dgp2_model4_beta_hat_T100_violin.png\" width=\"80%\">\n",
    "\n",
    "<img style=\"float: left;\" src=\"../out/figures/dgp2_model_4/dgp2_model4_mse_point_fe.png\" width=\"40%\">\n",
    "<img style=\"float: left;\" src=\"../out/figures/dgp2_model_4/dgp2_model4_mse_point_ls.png\" width=\"40%\">\n",
    "\n"
   ]
  },
  {
   "cell_type": "markdown",
   "metadata": {},
   "source": [
    "\n",
    "## Least square estimator with Unknown Numbers of Factors\n",
    "---"
   ]
  },
  {
   "cell_type": "markdown",
   "metadata": {},
   "source": [
    "**Question:**\\\n",
    "Previously in model 4, we know that real facor number is equal to 2. What would happen if we don't know the real value of r?\\\n",
    "Let's look at the cases when number of factors is not correctly estimated."
   ]
  },
  {
   "cell_type": "markdown",
   "metadata": {},
   "source": [
    "| r  | N  | T  | Mean beta1  | SD beta1    | SDE beta1   | Mean beta2  | SD beta2    | SDE beta2   | Mean mu     | SD mu       | SDE mu      | Mean gamma  | SD gamma    | SDE gamma   | Mean delta  | SD delta    | SDE delta   |\n",
    "|----|----|----|-------------|-------------|-------------|-------------|-------------|-------------|-------------|-------------|-------------|-------------|-------------|-------------|-------------|-------------|-------------|\n",
    "| 1  | 50 | 50 | 1.299485871 | 0.095710786 | 4.456140962 | 3.292826131 | 0.096925551 | 4.44081959  | 1.996985715 | 11.98579438 | 36.54016174 | 1.998588041 | 0.021709427 | 11.29556139 | 3.993837107 | 0.042822406 | 6.469117336 |\n",
    "| 2  | 50 | 50 | 1.006592463 | 0.002904624 | 1.64570457  | 3.012414558 | 0.00292846  | 1.641520697 | 5.231462291 | 0.016970361 | 2.900065837 | 1.907966568 | 0.003032083 | 1.681042152 | 4.000990315 | 0.001938405 | 1.938856287 |\n",
    "| 3  | 50 | 50 | 1.028881548 | 0.003899257 | 1.639942161 | 3.018004648 | 0.004271246 | 1.637854882 | 4.913144563 | 0.030815859 | 2.914347705 | 2.000802367 | 0.003517462 | 1.697668108 | 4.009939412 | 0.003294731 | 1.92702932  |\n",
    "| 4  | 50 | 50 | 1.01755106  | 0.003658605 | 1.604405519 | 3.017667246 | 0.003551534 | 1.602629824 | 4.93358403  | 0.039819183 | 2.913839966 | 1.991459599 | 0.020340786 | 1.713417127 | 4.000482503 | 0.002969476 | 1.890295915 |\n",
    "| 5  | 50 | 50 | 1.024658971 | 0.003336992 | 1.580105261 | 3.017989778 | 0.003133846 | 1.579820053 | 4.926772164 | 0.019666093 | 2.704596922 | 2.007035948 | 0.002903085 | 1.637769306 | 3.998958252 | 0.002723541 | 1.887336288 |\n",
    "| 6  | 50 | 50 | 1.023140416 | 0.003768553 | 1.585608773 | 3.017157416 | 0.003144705 | 1.576253934 | 4.926392238 | 0.019807791 | 2.764898185 | 1.993126979 | 0.003109979 | 1.617313875 | 4.000143359 | 0.005009746 | 1.860155168 |\n",
    "| 7  | 50 | 50 | 1.01446248  | 0.004483126 | 1.538488285 | 3.014096245 | 0.003458127 | 1.545723054 | 4.950343507 | 0.021413903 | 2.633138884 | 1.992547528 | 0.00459701  | 1.601333781 | 4.007088946 | 0.004303781 | 1.815926885 |\n",
    "| 8  | 50 | 50 | 1.015734004 | 0.003722514 | 1.536746526 | 3.019380847 | 0.004135481 | 1.534010479 | 4.941432548 | 0.017262411 | 2.672920316 | 2.010013408 | 0.004983443 | 1.555746345 | 4.007062706 | 0.004232863 | 1.832858286 |\n",
    "| 9  | 50 | 50 | 1.022853061 | 0.004122639 | 1.536670736 | 3.015935553 | 0.005389088 | 1.533537921 | 4.979321526 | 0.046001609 | 2.755899374 | 1.994893193 | 0.004396218 | 1.623966945 | 4.019136483 | 0.009708444 | 1.847970876 |\n",
    "| 10 | 50 | 50 | 1.029198636 | 0.005158083 | 1.509642709 | 3.02632589  | 0.004631926 | 1.505149919 | 4.891805103 | 0.035611549 | 2.697162836 | 2.017128819 | 0.005756231 | 1.570925631 | 3.998036252 | 0.00684446  | 1.812919595 |"
   ]
  },
  {
   "cell_type": "markdown",
   "metadata": {},
   "source": [
    "<img style=\"float: left;\" src=\"../out/figures/change_r/dgp2_r_beta_box.png\" width=\"40%\">\n",
    "<img style=\"float: left;\" src=\"../out/figures/change_r/dgp2_r_rmse_point.png\" width=\"40%\">"
   ]
  },
  {
   "cell_type": "markdown",
   "metadata": {},
   "source": [
    "### Determine Number of Factors in Approximate Factor Models"
   ]
  },
  {
   "cell_type": "markdown",
   "metadata": {},
   "source": [
    "Central to both the theoretical and the empirical validity of factor models is the correcy specification of the number of factors. To date, this crucial parameter is often assumed rather than determined by the data.\\\n",
    "We do a replication of [ Bai, J. and Ng, S. (2002)]( https://doi.org/10.1111/1468-0262.00273) under 50 times of simulation, and show that factor estimates are consistent estimation of r."
   ]
  },
  {
   "cell_type": "markdown",
   "metadata": {},
   "source": [
    "| N   | T  | PC1 | PC2 | PC3  | IC1 | IC2 | IC3 |\n",
    "|-----|----|-----|-----|------|-----|-----|-----|\n",
    "| 100 | 40 | 3   | 3   | 3.64 | 3   | 3   | 3   |\n",
    "| 100 | 60 | 3   | 3   | 3.38 | 3   | 3   | 3   |\n",
    "| 200 | 60 | 3   | 3   | 3    | 3   | 3   | 3   |\n",
    "| 500 | 60 | 3   | 3   | 3    | 3   | 3   | 3   |"
   ]
  },
  {
   "cell_type": "code",
   "execution_count": null,
   "metadata": {},
   "outputs": [],
   "source": []
  }
 ],
 "metadata": {
  "kernelspec": {
   "display_name": "R",
   "language": "R",
   "name": "ir"
  },
  "language_info": {
   "codemirror_mode": "r",
   "file_extension": ".r",
   "mimetype": "text/x-r-source",
   "name": "R",
   "pygments_lexer": "r",
   "version": "3.6.3"
  }
 },
 "nbformat": 4,
 "nbformat_minor": 4
}

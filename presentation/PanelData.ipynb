{
 "cells": [
  {
   "cell_type": "markdown",
   "metadata": {},
   "source": [
    "$$\n",
    "Y=X\\beta +\\lambda_{i}'F_{t}+\\epsilon\n",
    "$$\n",
    "$$\n",
    "x_{it,1}=\\mu_{1}+c_{1}\\lambda_{i}'F_{t}+\\iota'\\lambda_{i}+\\iota'F_{t}+\\eta_{it,1}\\\\\n",
    "x_{it,2}=\\mu_{2}+c_{2}\\lambda_{i}'F_{t}+\\iota'\\lambda_{i}+\\iota'F_{t}+\\eta_{it,2}\\\\\n",
    "\\mu_{1}=\\mu_{2}=c_{1}=c_{2}=1\\\\\n",
    "\\beta_{0} =5\\\\\n",
    "\\iota=\\begin{pmatrix}\n",
    "1\\\\\n",
    "1 \\end{pmatrix}_{r\\times1}\\\\\n",
    "\\eta_{it,1},\\eta_{it,2}\\stackrel{\\text{i.i.d}}{\\sim}N(0,1)\\\\\n",
    "\\epsilon_{it}\\stackrel{\\text{i.i.d}}{\\sim}N(0,1)\\\\\n",
    "$$"
   ]
  },
  {
   "cell_type": "markdown",
   "metadata": {},
   "source": [
    "### model1\n",
    "$$\n",
    "Y_{it} = \\beta_{1}x_{it,1}+\\beta_{2}x_{it,2}+\\alpha_{i}+\\epsilon_{it}\\\\\n",
    "X_{i}=\\begin{pmatrix}\n",
    "x_{it,1} \\\\\n",
    "x_{it,2}\\end{pmatrix},\n",
    "\\lambda_{i}=\\begin{pmatrix}\n",
    "\\alpha_{i} \\\\\n",
    "1 \\end{pmatrix},\n",
    "F_{t}=\\begin{pmatrix}\n",
    "1 \\\\\n",
    "0 \\end{pmatrix}\\\\\n",
    "\\alpha_{i}\\stackrel{\\text{i.i.d}}{\\sim}N(0,1)\n",
    "$$"
   ]
  },
  {
   "cell_type": "markdown",
   "metadata": {},
   "source": [
    "### model2\n",
    "$$\n",
    "Y_{it} = \\beta_{1}x_{it,1}+\\beta_{2}x_{it,2}+\\alpha_{i}+\\xi_{t}+\\epsilon_{it}\\\\\n",
    "X_{i}=\\begin{pmatrix}\n",
    "x_{it,1} \\\\\n",
    "x_{it,2}\\end{pmatrix},\n",
    "\\lambda_{i}=\\begin{pmatrix}\n",
    "\\alpha_{i} \\\\\n",
    "1 \\end{pmatrix},\n",
    "F_{t}=\\begin{pmatrix}\n",
    "1 \\\\\n",
    "\\epsilon_{t} \\end{pmatrix}\\\\\n",
    "\\alpha_{i},\\epsilon_{t}\\stackrel{\\text{i.i.d}}{\\sim}N(0,1)\n",
    "$$"
   ]
  },
  {
   "cell_type": "markdown",
   "metadata": {},
   "source": [
    "### model3\n",
    "$$\n",
    "Y_{it} = \\beta_{0}+ \\beta_{1}x_{it,1}+\\beta_{2}x_{it,2}+\\lambda_{i}'F_{t}+\\epsilon_{it}\\\\\n",
    "X_{i}=\\begin{pmatrix}\n",
    "x_{it,1} \\\\\n",
    "x_{it,2} \\\\\n",
    "1 \\end{pmatrix},\n",
    "\\lambda_{i}=\\begin{pmatrix}\n",
    "\\lambda_{i,1} \\\\\n",
    "\\lambda_{i,2} \\end{pmatrix},\n",
    "F_{t}=\\begin{pmatrix}\n",
    "F_{t,1} \\\\\n",
    "F_{t,2} \\end{pmatrix}\\\\\n",
    "\\lambda_{i,1},\\lambda_{i,2},F_{t,1},F_{t,2}\\stackrel{\\text{i.i.d}}{\\sim}N(0,1)\n",
    "$$\n",
    "\n"
   ]
  },
  {
   "cell_type": "markdown",
   "metadata": {},
   "source": [
    "### model4\n",
    "$$\n",
    "Y_{it} = \\beta_{0}+ \\beta_{1}x_{it,1}+\\beta_{2}x_{it,2}+x_{i}\\gamma +w_{t}\\delta +\\lambda_{i}'F_{t}+\\epsilon_{it}\\\\\n",
    "X_{i}=\\begin{pmatrix}\n",
    "x_{it,1} \\\\\n",
    "x_{it,2} \\\\\n",
    "1 \\\\\n",
    "x_{i} \\\\\n",
    "w_{t} \\end{pmatrix},\n",
    "\\lambda_{i}=\\begin{pmatrix}\n",
    "\\lambda_{i,1} \\\\\n",
    "\\lambda_{i,2} \\end{pmatrix},\n",
    "F_{t}=\\begin{pmatrix}\n",
    "F_{t,1} \\\\\n",
    "F_{t,2} \\end{pmatrix}\n",
    "$$\n",
    "$$\n",
    "\\lambda_{i,1},\\lambda_{i,2},F_{t,1},F_{t,2}\\stackrel{\\text{i.i.d}}{\\sim}N(0,1)\\\\\n",
    "\\gamma =2,\\delta =4\\\\\n",
    "x_{i}=\\iota'\\lambda_{i}+e_{i}\\\\\n",
    "w_{t}=\\iota'F_{t}+\\eta_{t}\\\\\n",
    "e_{i},\\eta_{t}\\stackrel{\\text{i.i.d}}{\\sim}N(0,1)\n",
    "$$"
   ]
  }
 ],
 "metadata": {
  "kernelspec": {
   "display_name": "R",
   "language": "R",
   "name": "ir"
  },
  "language_info": {
   "codemirror_mode": "r",
   "file_extension": ".r",
   "mimetype": "text/x-r-source",
   "name": "R",
   "pygments_lexer": "r",
   "version": "4.0.0"
  }
 },
 "nbformat": 4,
 "nbformat_minor": 4
}
